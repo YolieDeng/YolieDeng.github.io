{
 "cells": [
  {
   "cell_type": "markdown",
   "metadata": {},
   "source": [
    "# RAG "
   ]
  },
  {
   "cell_type": "markdown",
   "metadata": {},
   "source": [
    "## RAG 工作流程\n",
    "RAG的工作流程主要涉及三个主要阶段：数据准备、数据召回、答案生成。\n",
    "\n",
    "### 数据准备\n",
    "- 识别数据源\n",
    "- 从数据源提取数据\n",
    "- 清洗数据并将其存储在数据库中\n",
    "\n",
    "### 数据召回\n",
    "- 根据用户输入的查询条件从数据库中检索相关数据\n",
    "\n",
    "### 答案生成\n",
    "- 利用检索到的数据和用户输入的查询条件生成输出结果"
   ]
  },
  {
   "cell_type": "code",
   "execution_count": 1,
   "metadata": {},
   "outputs": [],
   "source": [
    "# !pip install openai"
   ]
  },
  {
   "cell_type": "code",
   "execution_count": 10,
   "metadata": {
    "scrolled": true
   },
   "outputs": [],
   "source": [
    "from openai import OpenAI\n",
    "from dotenv import load_dotenv,find_dotenv\n",
    "\n",
    "load_dotenv()\n",
    "client = OpenAI(\n",
    "    api_key = \"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\",\n",
    "    base_url = \"https://openrouter.ai/api/v1\"\n",
    ")"
   ]
  },
  {
   "cell_type": "code",
   "execution_count": 19,
   "metadata": {},
   "outputs": [],
   "source": [
    "def get_completion(prompt,model=\"gpt-3.5-turbo\"):\n",
    "    response = client.chat.completions.create(\n",
    "        model=\"openai/gpt-3.5-turbo\",\n",
    "        messages=[\n",
    "            {\"role\": \"user\", \"content\": prompt}\n",
    "        ],\n",
    "        temperature=0.7,\n",
    "    )\n",
    "    return response.choices[0].message.content"
   ]
  },
  {
   "cell_type": "code",
   "execution_count": 20,
   "metadata": {
    "scrolled": true
   },
   "outputs": [
    {
     "name": "stdout",
     "output_type": "stream",
     "text": [
      "Hello! I am a language model AI designed to assist and provide information on various topics. I am here to help answer your questions and engage in conversations. How can I assist you today?\n"
     ]
    }
   ],
   "source": [
    "result = get_completion(\"Introduce yourself?\")\n",
    "print(result)"
   ]
  },
  {
   "cell_type": "code",
   "execution_count": 21,
   "metadata": {},
   "outputs": [],
   "source": [
    "customer_email = \"\"\"\n",
    "Ahoy Matey!\n",
    "\n",
    "We be grateful for yer trust in our ship and crew. If ye have any troubles or treasures to share, send a message in a bottle our way. We’ll chart a course to help ye swift and true.\n",
    "\n",
    "Fair winds and followin’ seas,\n",
    "Captain\n",
    "\"\"\""
   ]
  },
  {
   "cell_type": "code",
   "execution_count": 22,
   "metadata": {},
   "outputs": [],
   "source": [
    "style = \"\"\"\n",
    "American English \\\n",
    "in a calm and respectful tone\n",
    "\"\"\""
   ]
  },
  {
   "cell_type": "code",
   "execution_count": 23,
   "metadata": {},
   "outputs": [
    {
     "name": "stdout",
     "output_type": "stream",
     "text": [
      "\n",
      "Translate the text that is delimited by triple backticks\n",
      "into a style that is \n",
      "American English in a calm and respectful tone\n",
      ".\n",
      "text:```\n",
      "Ahoy Matey!\n",
      "\n",
      "We be grateful for yer trust in our ship and crew. If ye have any troubles or treasures to share, send a message in a bottle our way. We’ll chart a course to help ye swift and true.\n",
      "\n",
      "Fair winds and followin’ seas,\n",
      "Captain\n",
      "```\n",
      "\n"
     ]
    }
   ],
   "source": [
    "prompt = f\"\"\"\n",
    "Translate the text \\\n",
    "that is delimited by triple backticks\n",
    "into a style that is {style}.\n",
    "text:```{customer_email}```\n",
    "\"\"\"\n",
    "\n",
    "print(prompt)"
   ]
  },
  {
   "cell_type": "code",
   "execution_count": 24,
   "metadata": {},
   "outputs": [],
   "source": [
    "response = get_completion(prompt)"
   ]
  },
  {
   "cell_type": "code",
   "execution_count": 25,
   "metadata": {},
   "outputs": [
    {
     "data": {
      "text/plain": [
       "'Ahoy there!\\n\\nWe are thankful for your trust in our ship and crew. If you have any concerns or valuable information to share, please send a message in a bottle our way. We will navigate a course to assist you quickly and accurately.\\n\\nWishing you good luck and smooth sailing,\\n\\nCaptain'"
      ]
     },
     "execution_count": 25,
     "metadata": {},
     "output_type": "execute_result"
    }
   ],
   "source": [
    "response"
   ]
  },
  {
   "cell_type": "markdown",
   "metadata": {},
   "source": [
    "## LangChain"
   ]
  },
  {
   "cell_type": "code",
   "execution_count": 29,
   "metadata": {},
   "outputs": [],
   "source": [
    "api_key = \"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\""
   ]
  },
  {
   "cell_type": "code",
   "execution_count": 30,
   "metadata": {},
   "outputs": [],
   "source": [
    "from langchain.chat_models import ChatOpenAI\n",
    "\n",
    "chat = ChatOpenAI(\n",
    "    model_name=\"gpt-3.5-turbo\",\n",
    "    openai_api_base=\"https://openrouter.ai/api/v1\",\n",
    "    openai_api_key= api_key,\n",
    ")"
   ]
  },
  {
   "cell_type": "code",
   "execution_count": 31,
   "metadata": {},
   "outputs": [
    {
     "data": {
      "text/plain": [
       "ChatOpenAI(client=<openai.resources.chat.completions.completions.Completions object at 0x10fe3dd20>, async_client=<openai.resources.chat.completions.completions.AsyncCompletions object at 0x10eedcb20>, model_kwargs={}, openai_api_key='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', openai_api_base='https://openrouter.ai/api/v1', openai_proxy='')"
      ]
     },
     "execution_count": 31,
     "metadata": {},
     "output_type": "execute_result"
    }
   ],
   "source": [
    "chat"
   ]
  },
  {
   "cell_type": "code",
   "execution_count": null,
   "metadata": {},
   "outputs": [],
   "source": []
  }
 ],
 "metadata": {
  "kernelspec": {
   "display_name": "Python 3 (ipykernel)",
   "language": "python",
   "name": "python3"
  },
  "language_info": {
   "codemirror_mode": {
    "name": "ipython",
    "version": 3
   },
   "file_extension": ".py",
   "mimetype": "text/x-python",
   "name": "python",
   "nbconvert_exporter": "python",
   "pygments_lexer": "ipython3",
   "version": "3.10.16"
  }
 },
 "nbformat": 4,
 "nbformat_minor": 4
}
